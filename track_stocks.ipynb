{
 "cells": [
  {
   "cell_type": "code",
   "execution_count": 1,
   "metadata": {},
   "outputs": [],
   "source": [
    "import pandas as pd\n",
    "import numpy as np\n",
    "from yahooquery import Ticker"
   ]
  },
  {
   "cell_type": "code",
   "execution_count": 2,
   "metadata": {},
   "outputs": [],
   "source": [
    "from datetime import datetime\n",
    "now = datetime.now()\n",
    "today_datetime = now.strftime(\"%m%d%Y_%H%M%S\")"
   ]
  },
  {
   "cell_type": "code",
   "execution_count": 3,
   "metadata": {},
   "outputs": [],
   "source": [
    "import sys\n",
    "import os.path\n",
    "from os import path"
   ]
  },
  {
   "cell_type": "code",
   "execution_count": 4,
   "metadata": {},
   "outputs": [],
   "source": [
    "if sys.argv[1] != 0:\n",
    "    \n",
    "    # filename = sys.argv[1]\n",
    "    filename = \"stock_list\"\n",
    "    excel_filename = filename + \".xlsx\"\n",
    "    if not path.exists(excel_filename):\n",
    "        print(f\"The Excel file name {excel_filename} you entered does not exist. Try again!\")\n",
    "        exit()\n",
    "else: \n",
    "    print(\"You need to enter a file name (no file type extension is required - it is default to xlsx)!\")\n",
    "    exit()"
   ]
  },
  {
   "cell_type": "code",
   "execution_count": 5,
   "metadata": {},
   "outputs": [],
   "source": [
    "extra_columns = ['sharePortfolio', 'wBeta','avgBeta','marketValue', 'change', '%return', 'total', 'trailingPE', 'forwardPE','trailingEps', 'forwardEps', 'dividendRate', 'recommend', 'recommendTrend' ]\n",
    "\n",
    "ignore_stock_substr = '**'"
   ]
  },
  {
   "cell_type": "code",
   "execution_count": 6,
   "metadata": {},
   "outputs": [],
   "source": [
    "df_xl = pd.ExcelFile(excel_filename)\n",
    "sheet_names = df_xl.sheet_names"
   ]
  },
  {
   "cell_type": "code",
   "execution_count": 7,
   "metadata": {},
   "outputs": [],
   "source": [
    "writer = pd.ExcelWriter(filename+ \"_\" + today_datetime + \".xlsx\", engine='xlsxwriter')"
   ]
  },
  {
   "cell_type": "code",
   "execution_count": 8,
   "metadata": {},
   "outputs": [],
   "source": [
    "def convertRecommendListToStr(recommends):\n",
    "\n",
    "    liststr=\"\"\n",
    "    if 'recommendedSymbols' in recommends:\n",
    "        for list in recommends['recommendedSymbols']:\n",
    "            sym = list['symbol']\n",
    "            score = list['score']\n",
    "            str1= sym + \" score: \" + str(score)\n",
    "            str2 = \"[\" + str1 + \"] \"\n",
    "            liststr += str2\n",
    "        \n",
    "    return liststr"
   ]
  },
  {
   "cell_type": "code",
   "execution_count": 9,
   "metadata": {},
   "outputs": [],
   "source": [
    "def convertRecommendTrendListToStr(trend):\n",
    "\n",
    "    liststr=\"\"\n",
    "    strong_buy = trend['strongBuy']\n",
    "    buy = trend['buy']\n",
    "    hold = trend['hold']\n",
    "    sell = trend['sell']\n",
    "    strong_sell = trend['strongSell']\n",
    "    \n",
    "    str1= \"Strong Buy: \" + str(strong_buy) + \" Buy: \" + str(buy) + \" Hold: \" + str(hold) + \" Sell: \" + str(sell) + \" Strong Sell: \" + str(strong_sell)\n",
    "    str2 = \"[\" + str1 + \"] \"\n",
    "    liststr += str2\n",
    "        \n",
    "    return liststr"
   ]
  },
  {
   "cell_type": "code",
   "execution_count": 10,
   "metadata": {},
   "outputs": [],
   "source": [
    "def fill_history(i, df, history):\n",
    "    \n",
    "    df.at[i, 'open'] = history.iloc[0]['open']\n",
    "    df.at[i, 'adjclose'] = history.iloc[0]['adjclose']\n",
    "    \n",
    "    return df"
   ]
  },
  {
   "cell_type": "code",
   "execution_count": 11,
   "metadata": {},
   "outputs": [],
   "source": [
    "def fill_mutual_fund_history(i, df, history):\n",
    "    \n",
    "    df.at[i, 'open'] = history['meta']['chartPreviousClose']\n",
    "    df.at[i, 'adjclose'] = history['meta']['regularMarketPrice']\n",
    "    \n",
    "    return df"
   ]
  },
  {
   "cell_type": "code",
   "execution_count": 12,
   "metadata": {},
   "outputs": [],
   "source": [
    "def fill_summary_details(i, df, details):\n",
    "  \n",
    "    if 'trailingAnnualDividendRate' in details:\n",
    "        df.at[i, 'dividendRate'] = details['trailingAnnualDividendRate']\n",
    "        \n",
    "    if 'beta' in details:\n",
    "        df.at[i, 'beta'] = details['beta']\n",
    "     \n",
    "    if 'trailingPE' in details:\n",
    "        df.at[i, 'trailingPE'] = details['trailingPE']\n",
    "        \n",
    "    if 'forwardPE' in details:\n",
    "        df.at[i, 'forwardPE'] = details['forwardPE']\n",
    "        \n",
    "    return df\n",
    "        "
   ]
  },
  {
   "cell_type": "code",
   "execution_count": 13,
   "metadata": {},
   "outputs": [],
   "source": [
    "def fill_keystats(i, df, keystats):\n",
    "    \n",
    "    if 'trailingEps' in keystats:\n",
    "        df.at[i, 'trailingEps'] = keystats['trailingEps']\n",
    "        \n",
    "    if 'forwardEps' in keystats:\n",
    "        df.at[i, 'forwardEps'] = keystats['forwardEps']\n",
    "    \n",
    "    return df"
   ]
  },
  {
   "cell_type": "code",
   "execution_count": 14,
   "metadata": {},
   "outputs": [],
   "source": [
    "def fill_recommendations(i, df, recommends):\n",
    "    \n",
    "    # convert dat to string and fill in the data if the data exists (not a str error statement)\n",
    "    if not type(recommends) is str:\n",
    "        df.at[i, 'recommend']  = convertRecommendListToStr(recommends)\n",
    "    \n",
    "    return df"
   ]
  },
  {
   "cell_type": "code",
   "execution_count": 15,
   "metadata": {},
   "outputs": [],
   "source": [
    "def fill_recommendation_trends(i, df, symbol, trends):\n",
    "    \n",
    "    if type(trends) is dict:\n",
    "        if 'trend' in trends[symbol]:\n",
    "            trend = trends[symbol]['trend'][0]\n",
    "            df.at[i, 'recommendTrend']  = convertRecommendTrendListToStr(trend)\n",
    "        else:\n",
    "            df.at[i, 'recommendTrend'] = \"\"\n",
    "            \n",
    "    else: # data frame\n",
    "        df.at[i, 'recommendTrend']  = convertRecommendTrendListToStr(trends.loc[symbol].loc[0])\n",
    "    \n",
    "    return df"
   ]
  },
  {
   "cell_type": "code",
   "execution_count": 16,
   "metadata": {},
   "outputs": [],
   "source": [
    "def get_stock_data(df, stock_list):\n",
    "    \n",
    "    yf_df = Ticker(stock_list, asynchronous=True)\n",
    "    \n",
    "    yf_details = yf_df.summary_detail\n",
    "    yf_history = yf_df.history(period='1d')\n",
    "    yf_keystats = yf_df.key_stats\n",
    "    yf_recommends = yf_df.recommendations\n",
    "    yf_recommend_trends = yf_df.recommendation_trend\n",
    "    \n",
    "    # initialize the  data type to str for recommendation columns\n",
    "    df['recommend'] = df['recommend'].astype(str)\n",
    "    df['recommendTrend'] = df['recommendTrend'].astype(str)\n",
    "   \n",
    "    for i, symbol in enumerate (df['Symbol']):\n",
    "        if  ignore_stock_substr not in symbol:\n",
    "            if type(yf_history) is dict:           \n",
    "                if (type(yf_history[symbol])) is dict:\n",
    "                    # check if it is a mutual fund\n",
    "                    if 'meta' in yf_history[symbol]:\n",
    "                        fill_mutual_fund_history(i,df, yf_history[symbol]) \n",
    "                        \n",
    "                # there is an error    \n",
    "                elif (type(yf_history[symbol])) is str:  \n",
    "                    continue;\n",
    "                    \n",
    "            else: # data frame\n",
    "                fill_history(i,df, yf_history.loc[symbol])            \n",
    "                               \n",
    "            fill_summary_details(i,df, yf_details[symbol])\n",
    "            fill_keystats(i,df, yf_keystats[symbol])\n",
    "            fill_recommendations(i,df, yf_recommends[symbol]) \n",
    "            fill_recommendation_trends(i, df, symbol, yf_recommend_trends)\n",
    "\n",
    "            if symbol == \"SPY\": df.at[i, 'beta'] = 1\n",
    "                \n",
    "    return df"
   ]
  },
  {
   "cell_type": "code",
   "execution_count": 17,
   "metadata": {},
   "outputs": [],
   "source": [
    "def get_stock_list(df):\n",
    "\n",
    "    stock_list = []\n",
    "    for i, symbol in enumerate (df['Symbol']):\n",
    "        if ignore_stock_substr not in symbol:\n",
    "            stock_list.append(symbol)\n",
    "            \n",
    "    return stock_list"
   ]
  },
  {
   "cell_type": "code",
   "execution_count": 18,
   "metadata": {},
   "outputs": [],
   "source": [
    "def build_data(df):\n",
    "    df['beta'] = df['beta'].fillna(0)\n",
    "    df['marketValue'] = df['adjclose'] * df['Quantity']\n",
    "    df['marketValue'] = df['marketValue'].fillna(0)\n",
    "    df.at[0,'total'] = sum(df['marketValue'])\n",
    "    df['sharePortfolio'] = df['marketValue'] / df.at[0,'total']\n",
    "    df['change'] = df['marketValue'] - df['BaseCost']\n",
    "    df['%return'] = df['change'].div(df['BaseCost']).replace(np.inf, 0) * 100\n",
    "    df['wBeta'] = df['sharePortfolio'] * df['beta']\n",
    "    df.at[0,'avgBeta'] = sum(df['wBeta'])\n",
    "    return df"
   ]
  },
  {
   "cell_type": "code",
   "execution_count": 19,
   "metadata": {},
   "outputs": [],
   "source": [
    "def build_sheet(df):\n",
    "    df_ext=pd.DataFrame(columns=extra_columns)\n",
    "    df = pd.concat([df, df_ext], axis=1)\n",
    "    stock_list = get_stock_list(df)\n",
    "    df = get_stock_data(df, stock_list)\n",
    "    df = build_data(df)\n",
    "    return df"
   ]
  },
  {
   "cell_type": "code",
   "execution_count": 20,
   "metadata": {
    "scrolled": true
   },
   "outputs": [],
   "source": [
    "for i, name in enumerate (sheet_names):\n",
    "    df = df_xl.parse(sheet_name=i)\n",
    "    df = build_sheet(df)\n",
    "    df.to_excel(writer, sheet_name=name, index=False)"
   ]
  },
  {
   "cell_type": "code",
   "execution_count": 21,
   "metadata": {},
   "outputs": [],
   "source": [
    "writer.save()"
   ]
  },
  {
   "cell_type": "code",
   "execution_count": null,
   "metadata": {},
   "outputs": [],
   "source": []
  }
 ],
 "metadata": {
  "kernelspec": {
   "display_name": "Python 3",
   "language": "python",
   "name": "python3"
  },
  "language_info": {
   "codemirror_mode": {
    "name": "ipython",
    "version": 3
   },
   "file_extension": ".py",
   "mimetype": "text/x-python",
   "name": "python",
   "nbconvert_exporter": "python",
   "pygments_lexer": "ipython3",
   "version": "3.8.5"
  }
 },
 "nbformat": 4,
 "nbformat_minor": 4
}
